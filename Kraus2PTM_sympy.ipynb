{
 "cells": [
  {
   "cell_type": "code",
   "execution_count": 1,
   "metadata": {
    "ExecuteTime": {
     "end_time": "2020-07-08T09:59:30.604797Z",
     "start_time": "2020-07-08T09:59:29.248609Z"
    }
   },
   "outputs": [],
   "source": [
    "import numpy as np\n",
    "import sympy\n",
    "from sympy.physics.quantum import TensorProduct"
   ]
  },
  {
   "cell_type": "code",
   "execution_count": 2,
   "metadata": {
    "ExecuteTime": {
     "end_time": "2020-07-08T09:59:34.049288Z",
     "start_time": "2020-07-08T09:59:34.031489Z"
    }
   },
   "outputs": [],
   "source": [
    "sigma = [sympy.Matrix([[1,0],[0,1]]),\n",
    "         sympy.Matrix([[0,1],[1,0]]),\n",
    "         sympy.Matrix([[0,-sympy.I],[sympy.I,0]]),\n",
    "         sympy.Matrix([[1,0],[0,-1]])]  \n",
    "\n",
    "sigma2d = [0]*16\n",
    "for i in range(4):\n",
    "    for j in range(4):\n",
    "        sigma2d[4*i + j] = TensorProduct(sigma[i], sigma[j])\n",
    "\n",
    "\n",
    "\n",
    "def trace(M, n):\n",
    "    t = 0\n",
    "    for i in range(n):\n",
    "        t = t + M[i, i]\n",
    "    return sympy.nsimplify(t)\n",
    "\n",
    "\n",
    "\n",
    "\n",
    "def Kraus2PTM(U):\n",
    "    \n",
    "    if (U.shape[0] == 2):\n",
    "        T = sympy.eye(4)\n",
    "        for i in range(0, 4):\n",
    "            for j in range(0, 4):\n",
    "                T[i, j] = 1/2 * trace(sigma[i]*U*sigma[j]*sympy.conjugate(U.T), 2)\n",
    "                \n",
    "    if (U.shape[0] == 4):\n",
    "        T = sympy.eye(16)\n",
    "        for i in range(0, 16):\n",
    "            for j in range(0, 16):\n",
    "                T[i, j] = 1/4 * trace(sigma2d[i]*U*sigma2d[j]*sympy.conjugate(U.T), 4)\n",
    " \n",
    "    return(sympy.nsimplify(sympy.Matrix(T)))"
   ]
  },
  {
   "cell_type": "code",
   "execution_count": 3,
   "metadata": {
    "ExecuteTime": {
     "end_time": "2020-07-08T09:59:36.485045Z",
     "start_time": "2020-07-08T09:59:36.459698Z"
    }
   },
   "outputs": [
    {
     "data": {
      "text/latex": [
       "$\\displaystyle \\left[\\begin{matrix}1.0 & 0 & 0 & 0\\\\0 & 1.0 & 0 & 0\\\\0 & 0 & 1.0 & 0\\\\0 & 0 & 0 & 1.0\\end{matrix}\\right]$"
      ],
      "text/plain": [
       "Matrix([\n",
       "[1.0,   0,   0,   0],\n",
       "[  0, 1.0,   0,   0],\n",
       "[  0,   0, 1.0,   0],\n",
       "[  0,   0,   0, 1.0]])"
      ]
     },
     "execution_count": 3,
     "metadata": {},
     "output_type": "execute_result"
    }
   ],
   "source": [
    "U = sympy.Matrix([[1, 0], [0, 1]])\n",
    "Kraus2PTM(U)"
   ]
  },
  {
   "cell_type": "code",
   "execution_count": 4,
   "metadata": {
    "ExecuteTime": {
     "end_time": "2020-07-08T09:59:42.869750Z",
     "start_time": "2020-07-08T09:59:42.769432Z"
    }
   },
   "outputs": [
    {
     "data": {
      "text/latex": [
       "$\\displaystyle \\left[\\begin{matrix}\\sin^{2}{\\left(\\frac{θ}{2} \\right)} + \\cos^{2}{\\left(\\frac{θ}{2} \\right)} & 0 & 0 & 0\\\\0 & - \\sin^{2}{\\left(\\frac{θ}{2} \\right)} + \\cos^{2}{\\left(\\frac{θ}{2} \\right)} & 0 & 2 \\sin{\\left(\\frac{θ}{2} \\right)} \\cos{\\left(\\frac{θ}{2} \\right)}\\\\0 & 0 & \\sin^{2}{\\left(\\frac{θ}{2} \\right)} + \\cos^{2}{\\left(\\frac{θ}{2} \\right)} & 0\\\\0 & - 2 \\sin{\\left(\\frac{θ}{2} \\right)} \\cos{\\left(\\frac{θ}{2} \\right)} & 0 & - \\sin^{2}{\\left(\\frac{θ}{2} \\right)} + \\cos^{2}{\\left(\\frac{θ}{2} \\right)}\\end{matrix}\\right]$"
      ],
      "text/plain": [
       "Matrix([\n",
       "[sin(θ/2)**2 + cos(θ/2)**2,                          0,                         0,                          0],\n",
       "[                        0, -sin(θ/2)**2 + cos(θ/2)**2,                         0,        2*sin(θ/2)*cos(θ/2)],\n",
       "[                        0,                          0, sin(θ/2)**2 + cos(θ/2)**2,                          0],\n",
       "[                        0,       -2*sin(θ/2)*cos(θ/2),                         0, -sin(θ/2)**2 + cos(θ/2)**2]])"
      ]
     },
     "execution_count": 4,
     "metadata": {},
     "output_type": "execute_result"
    }
   ],
   "source": [
    "θ, η, φ = sympy.symbols('θ, η, φ', real=True)\n",
    "Ry = sympy.Matrix([[sympy.cos(θ/2), -sympy.sin(θ/2)], [sympy.sin(θ/2), sympy.cos(θ/2)]])\n",
    "Kraus2PTM(Ry)"
   ]
  },
  {
   "cell_type": "code",
   "execution_count": 82,
   "metadata": {
    "ExecuteTime": {
     "end_time": "2020-07-07T21:26:48.784198Z",
     "start_time": "2020-07-07T21:26:47.266973Z"
    }
   },
   "outputs": [
    {
     "data": {
      "text/latex": [
       "$\\displaystyle \\left[\\begin{array}{cccccccccccccccc}\\frac{\\sin^{2}{\\left(\\frac{θ}{2} \\right)}}{2} + \\frac{\\cos^{2}{\\left(\\frac{θ}{2} \\right)}}{2} + \\frac{1}{2} & 0 & 0 & 0 & 0 & 0 & 0 & 0 & 0 & 0 & 0 & 0 & 0 & 0 & 0 & - \\frac{\\sin^{2}{\\left(\\frac{θ}{2} \\right)}}{2} - \\frac{\\cos^{2}{\\left(\\frac{θ}{2} \\right)}}{2} + \\frac{1}{2}\\\\0 & \\cos{\\left(\\frac{θ}{2} \\right)} & 0 & 0 & 0 & 0 & 0 & \\frac{i e^{i η} \\sin{\\left(\\frac{θ}{2} \\right)}}{2} - \\frac{i e^{- i η} \\sin{\\left(\\frac{θ}{2} \\right)}}{2} & 0 & 0 & 0 & - \\frac{e^{i η} \\sin{\\left(\\frac{θ}{2} \\right)}}{2} - \\frac{e^{- i η} \\sin{\\left(\\frac{θ}{2} \\right)}}{2} & 0 & 0 & 0 & 0\\\\0 & 0 & \\cos{\\left(\\frac{θ}{2} \\right)} & 0 & 0 & 0 & 0 & \\frac{e^{i η} \\sin{\\left(\\frac{θ}{2} \\right)}}{2} + \\frac{e^{- i η} \\sin{\\left(\\frac{θ}{2} \\right)}}{2} & 0 & 0 & 0 & \\frac{i e^{i η} \\sin{\\left(\\frac{θ}{2} \\right)}}{2} - \\frac{i e^{- i η} \\sin{\\left(\\frac{θ}{2} \\right)}}{2} & 0 & 0 & 0 & 0\\\\0 & 0 & 0 & - \\frac{\\sin^{2}{\\left(\\frac{θ}{2} \\right)}}{2} + \\frac{\\cos^{2}{\\left(\\frac{θ}{2} \\right)}}{2} + \\frac{1}{2} & 0 & - \\frac{i e^{i η} \\sin{\\left(\\frac{θ}{2} \\right)} \\cos{\\left(\\frac{θ}{2} \\right)}}{2} + \\frac{i e^{- i η} \\sin{\\left(\\frac{θ}{2} \\right)} \\cos{\\left(\\frac{θ}{2} \\right)}}{2} & - \\frac{e^{i η} \\sin{\\left(\\frac{θ}{2} \\right)} \\cos{\\left(\\frac{θ}{2} \\right)}}{2} - \\frac{e^{- i η} \\sin{\\left(\\frac{θ}{2} \\right)} \\cos{\\left(\\frac{θ}{2} \\right)}}{2} & 0 & 0 & \\frac{e^{i η} \\sin{\\left(\\frac{θ}{2} \\right)} \\cos{\\left(\\frac{θ}{2} \\right)}}{2} + \\frac{e^{- i η} \\sin{\\left(\\frac{θ}{2} \\right)} \\cos{\\left(\\frac{θ}{2} \\right)}}{2} & - \\frac{i e^{i η} \\sin{\\left(\\frac{θ}{2} \\right)} \\cos{\\left(\\frac{θ}{2} \\right)}}{2} + \\frac{i e^{- i η} \\sin{\\left(\\frac{θ}{2} \\right)} \\cos{\\left(\\frac{θ}{2} \\right)}}{2} & 0 & \\frac{\\sin^{2}{\\left(\\frac{θ}{2} \\right)}}{2} - \\frac{\\cos^{2}{\\left(\\frac{θ}{2} \\right)}}{2} + \\frac{1}{2} & 0 & 0 & 0\\\\0 & 0 & 0 & 0 & \\cos{\\left(\\frac{θ}{2} \\right)} & 0 & 0 & 0 & 0 & 0 & 0 & 0 & 0 & - \\frac{i e^{i η} \\sin{\\left(\\frac{θ}{2} \\right)}}{2} + \\frac{i e^{- i η} \\sin{\\left(\\frac{θ}{2} \\right)}}{2} & - \\frac{e^{i η} \\sin{\\left(\\frac{θ}{2} \\right)}}{2} - \\frac{e^{- i η} \\sin{\\left(\\frac{θ}{2} \\right)}}{2} & 0\\\\0 & 0 & 0 & \\frac{i e^{i η} \\sin{\\left(\\frac{θ}{2} \\right)} \\cos{\\left(\\frac{θ}{2} \\right)}}{2} - \\frac{i e^{- i η} \\sin{\\left(\\frac{θ}{2} \\right)} \\cos{\\left(\\frac{θ}{2} \\right)}}{2} & 0 & \\frac{e^{2 i η} \\sin^{2}{\\left(\\frac{θ}{2} \\right)}}{4} + \\frac{\\cos^{2}{\\left(\\frac{θ}{2} \\right)}}{2} + \\frac{1}{2} + \\frac{e^{- 2 i η} \\sin^{2}{\\left(\\frac{θ}{2} \\right)}}{4} & - \\frac{i e^{2 i η} \\sin^{2}{\\left(\\frac{θ}{2} \\right)}}{4} + \\frac{i e^{- 2 i η} \\sin^{2}{\\left(\\frac{θ}{2} \\right)}}{4} & 0 & 0 & \\frac{i e^{2 i η} \\sin^{2}{\\left(\\frac{θ}{2} \\right)}}{4} - \\frac{i e^{- 2 i η} \\sin^{2}{\\left(\\frac{θ}{2} \\right)}}{4} & \\frac{e^{2 i η} \\sin^{2}{\\left(\\frac{θ}{2} \\right)}}{4} + \\frac{\\cos^{2}{\\left(\\frac{θ}{2} \\right)}}{2} - \\frac{1}{2} + \\frac{e^{- 2 i η} \\sin^{2}{\\left(\\frac{θ}{2} \\right)}}{4} & 0 & - \\frac{i e^{i η} \\sin{\\left(\\frac{θ}{2} \\right)} \\cos{\\left(\\frac{θ}{2} \\right)}}{2} + \\frac{i e^{- i η} \\sin{\\left(\\frac{θ}{2} \\right)} \\cos{\\left(\\frac{θ}{2} \\right)}}{2} & 0 & 0 & 0\\\\0 & 0 & 0 & \\frac{e^{i η} \\sin{\\left(\\frac{θ}{2} \\right)} \\cos{\\left(\\frac{θ}{2} \\right)}}{2} + \\frac{e^{- i η} \\sin{\\left(\\frac{θ}{2} \\right)} \\cos{\\left(\\frac{θ}{2} \\right)}}{2} & 0 & - \\frac{i e^{2 i η} \\sin^{2}{\\left(\\frac{θ}{2} \\right)}}{4} + \\frac{i e^{- 2 i η} \\sin^{2}{\\left(\\frac{θ}{2} \\right)}}{4} & - \\frac{e^{2 i η} \\sin^{2}{\\left(\\frac{θ}{2} \\right)}}{4} + \\frac{\\cos^{2}{\\left(\\frac{θ}{2} \\right)}}{2} + \\frac{1}{2} - \\frac{e^{- 2 i η} \\sin^{2}{\\left(\\frac{θ}{2} \\right)}}{4} & 0 & 0 & \\frac{e^{2 i η} \\sin^{2}{\\left(\\frac{θ}{2} \\right)}}{4} - \\frac{\\cos^{2}{\\left(\\frac{θ}{2} \\right)}}{2} + \\frac{1}{2} + \\frac{e^{- 2 i η} \\sin^{2}{\\left(\\frac{θ}{2} \\right)}}{4} & - \\frac{i e^{2 i η} \\sin^{2}{\\left(\\frac{θ}{2} \\right)}}{4} + \\frac{i e^{- 2 i η} \\sin^{2}{\\left(\\frac{θ}{2} \\right)}}{4} & 0 & - \\frac{e^{i η} \\sin{\\left(\\frac{θ}{2} \\right)} \\cos{\\left(\\frac{θ}{2} \\right)}}{2} - \\frac{e^{- i η} \\sin{\\left(\\frac{θ}{2} \\right)} \\cos{\\left(\\frac{θ}{2} \\right)}}{2} & 0 & 0 & 0\\\\0 & - \\frac{i e^{i η} \\sin{\\left(\\frac{θ}{2} \\right)}}{2} + \\frac{i e^{- i η} \\sin{\\left(\\frac{θ}{2} \\right)}}{2} & - \\frac{e^{i η} \\sin{\\left(\\frac{θ}{2} \\right)}}{2} - \\frac{e^{- i η} \\sin{\\left(\\frac{θ}{2} \\right)}}{2} & 0 & 0 & 0 & 0 & \\cos{\\left(\\frac{θ}{2} \\right)} & 0 & 0 & 0 & 0 & 0 & 0 & 0 & 0\\\\0 & 0 & 0 & 0 & 0 & 0 & 0 & 0 & \\cos{\\left(\\frac{θ}{2} \\right)} & 0 & 0 & 0 & 0 & \\frac{e^{i η} \\sin{\\left(\\frac{θ}{2} \\right)}}{2} + \\frac{e^{- i η} \\sin{\\left(\\frac{θ}{2} \\right)}}{2} & - \\frac{i e^{i η} \\sin{\\left(\\frac{θ}{2} \\right)}}{2} + \\frac{i e^{- i η} \\sin{\\left(\\frac{θ}{2} \\right)}}{2} & 0\\\\0 & 0 & 0 & - \\frac{e^{i η} \\sin{\\left(\\frac{θ}{2} \\right)} \\cos{\\left(\\frac{θ}{2} \\right)}}{2} - \\frac{e^{- i η} \\sin{\\left(\\frac{θ}{2} \\right)} \\cos{\\left(\\frac{θ}{2} \\right)}}{2} & 0 & \\frac{i e^{2 i η} \\sin^{2}{\\left(\\frac{θ}{2} \\right)}}{4} - \\frac{i e^{- 2 i η} \\sin^{2}{\\left(\\frac{θ}{2} \\right)}}{4} & \\frac{e^{2 i η} \\sin^{2}{\\left(\\frac{θ}{2} \\right)}}{4} - \\frac{\\cos^{2}{\\left(\\frac{θ}{2} \\right)}}{2} + \\frac{1}{2} + \\frac{e^{- 2 i η} \\sin^{2}{\\left(\\frac{θ}{2} \\right)}}{4} & 0 & 0 & - \\frac{e^{2 i η} \\sin^{2}{\\left(\\frac{θ}{2} \\right)}}{4} + \\frac{\\cos^{2}{\\left(\\frac{θ}{2} \\right)}}{2} + \\frac{1}{2} - \\frac{e^{- 2 i η} \\sin^{2}{\\left(\\frac{θ}{2} \\right)}}{4} & \\frac{i e^{2 i η} \\sin^{2}{\\left(\\frac{θ}{2} \\right)}}{4} - \\frac{i e^{- 2 i η} \\sin^{2}{\\left(\\frac{θ}{2} \\right)}}{4} & 0 & \\frac{e^{i η} \\sin{\\left(\\frac{θ}{2} \\right)} \\cos{\\left(\\frac{θ}{2} \\right)}}{2} + \\frac{e^{- i η} \\sin{\\left(\\frac{θ}{2} \\right)} \\cos{\\left(\\frac{θ}{2} \\right)}}{2} & 0 & 0 & 0\\\\0 & 0 & 0 & \\frac{i e^{i η} \\sin{\\left(\\frac{θ}{2} \\right)} \\cos{\\left(\\frac{θ}{2} \\right)}}{2} - \\frac{i e^{- i η} \\sin{\\left(\\frac{θ}{2} \\right)} \\cos{\\left(\\frac{θ}{2} \\right)}}{2} & 0 & \\frac{e^{2 i η} \\sin^{2}{\\left(\\frac{θ}{2} \\right)}}{4} + \\frac{\\cos^{2}{\\left(\\frac{θ}{2} \\right)}}{2} - \\frac{1}{2} + \\frac{e^{- 2 i η} \\sin^{2}{\\left(\\frac{θ}{2} \\right)}}{4} & - \\frac{i e^{2 i η} \\sin^{2}{\\left(\\frac{θ}{2} \\right)}}{4} + \\frac{i e^{- 2 i η} \\sin^{2}{\\left(\\frac{θ}{2} \\right)}}{4} & 0 & 0 & \\frac{i e^{2 i η} \\sin^{2}{\\left(\\frac{θ}{2} \\right)}}{4} - \\frac{i e^{- 2 i η} \\sin^{2}{\\left(\\frac{θ}{2} \\right)}}{4} & \\frac{e^{2 i η} \\sin^{2}{\\left(\\frac{θ}{2} \\right)}}{4} + \\frac{\\cos^{2}{\\left(\\frac{θ}{2} \\right)}}{2} + \\frac{1}{2} + \\frac{e^{- 2 i η} \\sin^{2}{\\left(\\frac{θ}{2} \\right)}}{4} & 0 & - \\frac{i e^{i η} \\sin{\\left(\\frac{θ}{2} \\right)} \\cos{\\left(\\frac{θ}{2} \\right)}}{2} + \\frac{i e^{- i η} \\sin{\\left(\\frac{θ}{2} \\right)} \\cos{\\left(\\frac{θ}{2} \\right)}}{2} & 0 & 0 & 0\\\\0 & \\frac{e^{i η} \\sin{\\left(\\frac{θ}{2} \\right)}}{2} + \\frac{e^{- i η} \\sin{\\left(\\frac{θ}{2} \\right)}}{2} & - \\frac{i e^{i η} \\sin{\\left(\\frac{θ}{2} \\right)}}{2} + \\frac{i e^{- i η} \\sin{\\left(\\frac{θ}{2} \\right)}}{2} & 0 & 0 & 0 & 0 & 0 & 0 & 0 & 0 & \\cos{\\left(\\frac{θ}{2} \\right)} & 0 & 0 & 0 & 0\\\\0 & 0 & 0 & \\frac{\\sin^{2}{\\left(\\frac{θ}{2} \\right)}}{2} - \\frac{\\cos^{2}{\\left(\\frac{θ}{2} \\right)}}{2} + \\frac{1}{2} & 0 & \\frac{i e^{i η} \\sin{\\left(\\frac{θ}{2} \\right)} \\cos{\\left(\\frac{θ}{2} \\right)}}{2} - \\frac{i e^{- i η} \\sin{\\left(\\frac{θ}{2} \\right)} \\cos{\\left(\\frac{θ}{2} \\right)}}{2} & \\frac{e^{i η} \\sin{\\left(\\frac{θ}{2} \\right)} \\cos{\\left(\\frac{θ}{2} \\right)}}{2} + \\frac{e^{- i η} \\sin{\\left(\\frac{θ}{2} \\right)} \\cos{\\left(\\frac{θ}{2} \\right)}}{2} & 0 & 0 & - \\frac{e^{i η} \\sin{\\left(\\frac{θ}{2} \\right)} \\cos{\\left(\\frac{θ}{2} \\right)}}{2} - \\frac{e^{- i η} \\sin{\\left(\\frac{θ}{2} \\right)} \\cos{\\left(\\frac{θ}{2} \\right)}}{2} & \\frac{i e^{i η} \\sin{\\left(\\frac{θ}{2} \\right)} \\cos{\\left(\\frac{θ}{2} \\right)}}{2} - \\frac{i e^{- i η} \\sin{\\left(\\frac{θ}{2} \\right)} \\cos{\\left(\\frac{θ}{2} \\right)}}{2} & 0 & - \\frac{\\sin^{2}{\\left(\\frac{θ}{2} \\right)}}{2} + \\frac{\\cos^{2}{\\left(\\frac{θ}{2} \\right)}}{2} + \\frac{1}{2} & 0 & 0 & 0\\\\0 & 0 & 0 & 0 & \\frac{i e^{i η} \\sin{\\left(\\frac{θ}{2} \\right)}}{2} - \\frac{i e^{- i η} \\sin{\\left(\\frac{θ}{2} \\right)}}{2} & 0 & 0 & 0 & - \\frac{e^{i η} \\sin{\\left(\\frac{θ}{2} \\right)}}{2} - \\frac{e^{- i η} \\sin{\\left(\\frac{θ}{2} \\right)}}{2} & 0 & 0 & 0 & 0 & \\cos{\\left(\\frac{θ}{2} \\right)} & 0 & 0\\\\0 & 0 & 0 & 0 & \\frac{e^{i η} \\sin{\\left(\\frac{θ}{2} \\right)}}{2} + \\frac{e^{- i η} \\sin{\\left(\\frac{θ}{2} \\right)}}{2} & 0 & 0 & 0 & \\frac{i e^{i η} \\sin{\\left(\\frac{θ}{2} \\right)}}{2} - \\frac{i e^{- i η} \\sin{\\left(\\frac{θ}{2} \\right)}}{2} & 0 & 0 & 0 & 0 & 0 & \\cos{\\left(\\frac{θ}{2} \\right)} & 0\\\\- \\frac{\\sin^{2}{\\left(\\frac{θ}{2} \\right)}}{2} - \\frac{\\cos^{2}{\\left(\\frac{θ}{2} \\right)}}{2} + \\frac{1}{2} & 0 & 0 & 0 & 0 & 0 & 0 & 0 & 0 & 0 & 0 & 0 & 0 & 0 & 0 & \\frac{\\sin^{2}{\\left(\\frac{θ}{2} \\right)}}{2} + \\frac{\\cos^{2}{\\left(\\frac{θ}{2} \\right)}}{2} + \\frac{1}{2}\\end{array}\\right]$"
      ],
      "text/plain": [
       "Matrix([\n",
       "[ sin(θ/2)**2/2 + cos(θ/2)**2/2 + 1/2,                                               0,                                               0,                                                                0,                                              0,                                                                          0,                                                                           0,                                              0,                                              0,                                                                           0,                                                                          0,                                              0,                                                                 0,                                               0,                                               0, -sin(θ/2)**2/2 - cos(θ/2)**2/2 + 1/2],\n",
       "[                                   0,                                        cos(θ/2),                                               0,                                                                0,                                              0,                                                                          0,                                                                           0, I*exp(I*η)*sin(θ/2)/2 - I*exp(-I*η)*sin(θ/2)/2,                                              0,                                                                           0,                                                                          0,    -exp(I*η)*sin(θ/2)/2 - exp(-I*η)*sin(θ/2)/2,                                                                 0,                                               0,                                               0,                                    0],\n",
       "[                                   0,                                               0,                                        cos(θ/2),                                                                0,                                              0,                                                                          0,                                                                           0,     exp(I*η)*sin(θ/2)/2 + exp(-I*η)*sin(θ/2)/2,                                              0,                                                                           0,                                                                          0, I*exp(I*η)*sin(θ/2)/2 - I*exp(-I*η)*sin(θ/2)/2,                                                                 0,                                               0,                                               0,                                    0],\n",
       "[                                   0,                                               0,                                               0,                             -sin(θ/2)**2/2 + cos(θ/2)**2/2 + 1/2,                                              0,          -I*exp(I*η)*sin(θ/2)*cos(θ/2)/2 + I*exp(-I*η)*sin(θ/2)*cos(θ/2)/2,               -exp(I*η)*sin(θ/2)*cos(θ/2)/2 - exp(-I*η)*sin(θ/2)*cos(θ/2)/2,                                              0,                                              0,                exp(I*η)*sin(θ/2)*cos(θ/2)/2 + exp(-I*η)*sin(θ/2)*cos(θ/2)/2,          -I*exp(I*η)*sin(θ/2)*cos(θ/2)/2 + I*exp(-I*η)*sin(θ/2)*cos(θ/2)/2,                                              0,                               sin(θ/2)**2/2 - cos(θ/2)**2/2 + 1/2,                                               0,                                               0,                                    0],\n",
       "[                                   0,                                               0,                                               0,                                                                0,                                       cos(θ/2),                                                                          0,                                                                           0,                                              0,                                              0,                                                                           0,                                                                          0,                                              0,                                                                 0, -I*exp(I*η)*sin(θ/2)/2 + I*exp(-I*η)*sin(θ/2)/2,     -exp(I*η)*sin(θ/2)/2 - exp(-I*η)*sin(θ/2)/2,                                    0],\n",
       "[                                   0,                                               0,                                               0, I*exp(I*η)*sin(θ/2)*cos(θ/2)/2 - I*exp(-I*η)*sin(θ/2)*cos(θ/2)/2,                                              0, exp(2*I*η)*sin(θ/2)**2/4 + cos(θ/2)**2/2 + 1/2 + exp(-2*I*η)*sin(θ/2)**2/4,                   -I*exp(2*I*η)*sin(θ/2)**2/4 + I*exp(-2*I*η)*sin(θ/2)**2/4,                                              0,                                              0,                    I*exp(2*I*η)*sin(θ/2)**2/4 - I*exp(-2*I*η)*sin(θ/2)**2/4, exp(2*I*η)*sin(θ/2)**2/4 + cos(θ/2)**2/2 - 1/2 + exp(-2*I*η)*sin(θ/2)**2/4,                                              0, -I*exp(I*η)*sin(θ/2)*cos(θ/2)/2 + I*exp(-I*η)*sin(θ/2)*cos(θ/2)/2,                                               0,                                               0,                                    0],\n",
       "[                                   0,                                               0,                                               0,     exp(I*η)*sin(θ/2)*cos(θ/2)/2 + exp(-I*η)*sin(θ/2)*cos(θ/2)/2,                                              0,                  -I*exp(2*I*η)*sin(θ/2)**2/4 + I*exp(-2*I*η)*sin(θ/2)**2/4, -exp(2*I*η)*sin(θ/2)**2/4 + cos(θ/2)**2/2 + 1/2 - exp(-2*I*η)*sin(θ/2)**2/4,                                              0,                                              0,  exp(2*I*η)*sin(θ/2)**2/4 - cos(θ/2)**2/2 + 1/2 + exp(-2*I*η)*sin(θ/2)**2/4,                  -I*exp(2*I*η)*sin(θ/2)**2/4 + I*exp(-2*I*η)*sin(θ/2)**2/4,                                              0,     -exp(I*η)*sin(θ/2)*cos(θ/2)/2 - exp(-I*η)*sin(θ/2)*cos(θ/2)/2,                                               0,                                               0,                                    0],\n",
       "[                                   0, -I*exp(I*η)*sin(θ/2)/2 + I*exp(-I*η)*sin(θ/2)/2,     -exp(I*η)*sin(θ/2)/2 - exp(-I*η)*sin(θ/2)/2,                                                                0,                                              0,                                                                          0,                                                                           0,                                       cos(θ/2),                                              0,                                                                           0,                                                                          0,                                              0,                                                                 0,                                               0,                                               0,                                    0],\n",
       "[                                   0,                                               0,                                               0,                                                                0,                                              0,                                                                          0,                                                                           0,                                              0,                                       cos(θ/2),                                                                           0,                                                                          0,                                              0,                                                                 0,      exp(I*η)*sin(θ/2)/2 + exp(-I*η)*sin(θ/2)/2, -I*exp(I*η)*sin(θ/2)/2 + I*exp(-I*η)*sin(θ/2)/2,                                    0],\n",
       "[                                   0,                                               0,                                               0,    -exp(I*η)*sin(θ/2)*cos(θ/2)/2 - exp(-I*η)*sin(θ/2)*cos(θ/2)/2,                                              0,                   I*exp(2*I*η)*sin(θ/2)**2/4 - I*exp(-2*I*η)*sin(θ/2)**2/4,  exp(2*I*η)*sin(θ/2)**2/4 - cos(θ/2)**2/2 + 1/2 + exp(-2*I*η)*sin(θ/2)**2/4,                                              0,                                              0, -exp(2*I*η)*sin(θ/2)**2/4 + cos(θ/2)**2/2 + 1/2 - exp(-2*I*η)*sin(θ/2)**2/4,                   I*exp(2*I*η)*sin(θ/2)**2/4 - I*exp(-2*I*η)*sin(θ/2)**2/4,                                              0,      exp(I*η)*sin(θ/2)*cos(θ/2)/2 + exp(-I*η)*sin(θ/2)*cos(θ/2)/2,                                               0,                                               0,                                    0],\n",
       "[                                   0,                                               0,                                               0, I*exp(I*η)*sin(θ/2)*cos(θ/2)/2 - I*exp(-I*η)*sin(θ/2)*cos(θ/2)/2,                                              0, exp(2*I*η)*sin(θ/2)**2/4 + cos(θ/2)**2/2 - 1/2 + exp(-2*I*η)*sin(θ/2)**2/4,                   -I*exp(2*I*η)*sin(θ/2)**2/4 + I*exp(-2*I*η)*sin(θ/2)**2/4,                                              0,                                              0,                    I*exp(2*I*η)*sin(θ/2)**2/4 - I*exp(-2*I*η)*sin(θ/2)**2/4, exp(2*I*η)*sin(θ/2)**2/4 + cos(θ/2)**2/2 + 1/2 + exp(-2*I*η)*sin(θ/2)**2/4,                                              0, -I*exp(I*η)*sin(θ/2)*cos(θ/2)/2 + I*exp(-I*η)*sin(θ/2)*cos(θ/2)/2,                                               0,                                               0,                                    0],\n",
       "[                                   0,      exp(I*η)*sin(θ/2)/2 + exp(-I*η)*sin(θ/2)/2, -I*exp(I*η)*sin(θ/2)/2 + I*exp(-I*η)*sin(θ/2)/2,                                                                0,                                              0,                                                                          0,                                                                           0,                                              0,                                              0,                                                                           0,                                                                          0,                                       cos(θ/2),                                                                 0,                                               0,                                               0,                                    0],\n",
       "[                                   0,                                               0,                                               0,                              sin(θ/2)**2/2 - cos(θ/2)**2/2 + 1/2,                                              0,           I*exp(I*η)*sin(θ/2)*cos(θ/2)/2 - I*exp(-I*η)*sin(θ/2)*cos(θ/2)/2,                exp(I*η)*sin(θ/2)*cos(θ/2)/2 + exp(-I*η)*sin(θ/2)*cos(θ/2)/2,                                              0,                                              0,               -exp(I*η)*sin(θ/2)*cos(θ/2)/2 - exp(-I*η)*sin(θ/2)*cos(θ/2)/2,           I*exp(I*η)*sin(θ/2)*cos(θ/2)/2 - I*exp(-I*η)*sin(θ/2)*cos(θ/2)/2,                                              0,                              -sin(θ/2)**2/2 + cos(θ/2)**2/2 + 1/2,                                               0,                                               0,                                    0],\n",
       "[                                   0,                                               0,                                               0,                                                                0, I*exp(I*η)*sin(θ/2)/2 - I*exp(-I*η)*sin(θ/2)/2,                                                                          0,                                                                           0,                                              0,    -exp(I*η)*sin(θ/2)/2 - exp(-I*η)*sin(θ/2)/2,                                                                           0,                                                                          0,                                              0,                                                                 0,                                        cos(θ/2),                                               0,                                    0],\n",
       "[                                   0,                                               0,                                               0,                                                                0,     exp(I*η)*sin(θ/2)/2 + exp(-I*η)*sin(θ/2)/2,                                                                          0,                                                                           0,                                              0, I*exp(I*η)*sin(θ/2)/2 - I*exp(-I*η)*sin(θ/2)/2,                                                                           0,                                                                          0,                                              0,                                                                 0,                                               0,                                        cos(θ/2),                                    0],\n",
       "[-sin(θ/2)**2/2 - cos(θ/2)**2/2 + 1/2,                                               0,                                               0,                                                                0,                                              0,                                                                          0,                                                                           0,                                              0,                                              0,                                                                           0,                                                                          0,                                              0,                                                                 0,                                               0,                                               0,  sin(θ/2)**2/2 + cos(θ/2)**2/2 + 1/2]])"
      ]
     },
     "execution_count": 82,
     "metadata": {},
     "output_type": "execute_result"
    }
   ],
   "source": [
    "iSWAP = sympy.Matrix([[1, 0, 0, 0],\n",
    "                      [0, sympy.cos(θ/2), sympy.I*sympy.exp(sympy.I*η)*sympy.sin(θ/2), 0],\n",
    "                      [0, sympy.I*sympy.exp(-sympy.I*η)*sympy.sin(θ/2), sympy.cos(θ/2), 0],\n",
    "                      [0, 0, 0, 1]])\n",
    "Kraus2PTM(iSWAP)"
   ]
  },
  {
   "cell_type": "code",
   "execution_count": 87,
   "metadata": {
    "ExecuteTime": {
     "end_time": "2020-07-07T21:46:07.168449Z",
     "start_time": "2020-07-07T21:46:06.878614Z"
    }
   },
   "outputs": [
    {
     "data": {
      "text/latex": [
       "$\\displaystyle \\left[\\begin{array}{cccccccccccccccc}1.0 & 0 & 0 & 0 & 0 & 0 & 0 & 0 & 0 & 0 & 0 & 0 & 0 & 0 & 0 & 0\\\\0 & 0 & 0 & 0 & 0 & 0 & 0 & 0 & 0 & 0 & 0 & -1.0 & 0 & 0 & 0 & 0\\\\0 & 0 & 0 & 0 & 0 & 0 & 0 & 1.0 & 0 & 0 & 0 & 0 & 0 & 0 & 0 & 0\\\\0 & 0 & 0 & 0 & 0 & 0 & 0 & 0 & 0 & 0 & 0 & 0 & 1.0 & 0 & 0 & 0\\\\0 & 0 & 0 & 0 & 0 & 0 & 0 & 0 & 0 & 0 & 0 & 0 & 0 & 0 & -1.0 & 0\\\\0 & 0 & 0 & 0 & 0 & 1.0 & 0 & 0 & 0 & 0 & 0 & 0 & 0 & 0 & 0 & 0\\\\0 & 0 & 0 & 0 & 0 & 0 & 0 & 0 & 0 & 1.0 & 0 & 0 & 0 & 0 & 0 & 0\\\\0 & 0 & -1.0 & 0 & 0 & 0 & 0 & 0 & 0 & 0 & 0 & 0 & 0 & 0 & 0 & 0\\\\0 & 0 & 0 & 0 & 0 & 0 & 0 & 0 & 0 & 0 & 0 & 0 & 0 & 1.0 & 0 & 0\\\\0 & 0 & 0 & 0 & 0 & 0 & 1.0 & 0 & 0 & 0 & 0 & 0 & 0 & 0 & 0 & 0\\\\0 & 0 & 0 & 0 & 0 & 0 & 0 & 0 & 0 & 0 & 1.0 & 0 & 0 & 0 & 0 & 0\\\\0 & 1.0 & 0 & 0 & 0 & 0 & 0 & 0 & 0 & 0 & 0 & 0 & 0 & 0 & 0 & 0\\\\0 & 0 & 0 & 1.0 & 0 & 0 & 0 & 0 & 0 & 0 & 0 & 0 & 0 & 0 & 0 & 0\\\\0 & 0 & 0 & 0 & 0 & 0 & 0 & 0 & -1.0 & 0 & 0 & 0 & 0 & 0 & 0 & 0\\\\0 & 0 & 0 & 0 & 1.0 & 0 & 0 & 0 & 0 & 0 & 0 & 0 & 0 & 0 & 0 & 0\\\\0 & 0 & 0 & 0 & 0 & 0 & 0 & 0 & 0 & 0 & 0 & 0 & 0 & 0 & 0 & 1.0\\end{array}\\right]$"
      ],
      "text/plain": [
       "Matrix([\n",
       "[1.0,   0,    0,   0,   0,   0,   0,   0,    0,   0,   0,    0,   0,   0,    0,   0],\n",
       "[  0,   0,    0,   0,   0,   0,   0,   0,    0,   0,   0, -1.0,   0,   0,    0,   0],\n",
       "[  0,   0,    0,   0,   0,   0,   0, 1.0,    0,   0,   0,    0,   0,   0,    0,   0],\n",
       "[  0,   0,    0,   0,   0,   0,   0,   0,    0,   0,   0,    0, 1.0,   0,    0,   0],\n",
       "[  0,   0,    0,   0,   0,   0,   0,   0,    0,   0,   0,    0,   0,   0, -1.0,   0],\n",
       "[  0,   0,    0,   0,   0, 1.0,   0,   0,    0,   0,   0,    0,   0,   0,    0,   0],\n",
       "[  0,   0,    0,   0,   0,   0,   0,   0,    0, 1.0,   0,    0,   0,   0,    0,   0],\n",
       "[  0,   0, -1.0,   0,   0,   0,   0,   0,    0,   0,   0,    0,   0,   0,    0,   0],\n",
       "[  0,   0,    0,   0,   0,   0,   0,   0,    0,   0,   0,    0,   0, 1.0,    0,   0],\n",
       "[  0,   0,    0,   0,   0,   0, 1.0,   0,    0,   0,   0,    0,   0,   0,    0,   0],\n",
       "[  0,   0,    0,   0,   0,   0,   0,   0,    0,   0, 1.0,    0,   0,   0,    0,   0],\n",
       "[  0, 1.0,    0,   0,   0,   0,   0,   0,    0,   0,   0,    0,   0,   0,    0,   0],\n",
       "[  0,   0,    0, 1.0,   0,   0,   0,   0,    0,   0,   0,    0,   0,   0,    0,   0],\n",
       "[  0,   0,    0,   0,   0,   0,   0,   0, -1.0,   0,   0,    0,   0,   0,    0,   0],\n",
       "[  0,   0,    0,   0, 1.0,   0,   0,   0,    0,   0,   0,    0,   0,   0,    0,   0],\n",
       "[  0,   0,    0,   0,   0,   0,   0,   0,    0,   0,   0,    0,   0,   0,    0, 1.0]])"
      ]
     },
     "execution_count": 87,
     "metadata": {},
     "output_type": "execute_result"
    }
   ],
   "source": [
    "iSWAP = sympy.Matrix([[1, 0, 0, 0],\n",
    "                      [0, 0, sympy.I, 0],\n",
    "                      [0, sympy.I, 0, 0],\n",
    "                      [0, 0, 0, 1]])\n",
    "Kraus2PTM(iSWAP)"
   ]
  },
  {
   "cell_type": "code",
   "execution_count": 8,
   "metadata": {
    "ExecuteTime": {
     "end_time": "2020-07-08T15:36:17.367651Z",
     "start_time": "2020-07-08T15:36:15.766813Z"
    }
   },
   "outputs": [
    {
     "data": {
      "text/latex": [
       "$\\displaystyle \\left[\\begin{array}{cccccccccccccccc}1 & 0 & 0 & 0 & 0 & 0 & 0 & 0 & 0 & 0 & 0 & 0 & 0 & 0 & 0 & 0\\\\0 & \\frac{e^{\\frac{i φ}{2}}}{4} + \\frac{e^{i φ}}{4} + \\frac{e^{- i φ}}{4} + \\frac{e^{- \\frac{i φ}{2}}}{4} & \\frac{i e^{\\frac{i φ}{2}}}{4} - \\frac{i e^{i φ}}{4} + \\frac{i e^{- i φ}}{4} - \\frac{i e^{- \\frac{i φ}{2}}}{4} & 0 & 0 & 0 & 0 & 0 & 0 & 0 & 0 & 0 & 0 & - \\frac{e^{\\frac{i φ}{2}}}{4} + \\frac{e^{i φ}}{4} + \\frac{e^{- i φ}}{4} - \\frac{e^{- \\frac{i φ}{2}}}{4} & - \\frac{i e^{\\frac{i φ}{2}}}{4} - \\frac{i e^{i φ}}{4} + \\frac{i e^{- i φ}}{4} + \\frac{i e^{- \\frac{i φ}{2}}}{4} & 0\\\\0 & - \\frac{i e^{\\frac{i φ}{2}}}{4} + \\frac{i e^{i φ}}{4} - \\frac{i e^{- i φ}}{4} + \\frac{i e^{- \\frac{i φ}{2}}}{4} & \\frac{e^{\\frac{i φ}{2}}}{4} + \\frac{e^{i φ}}{4} + \\frac{e^{- i φ}}{4} + \\frac{e^{- \\frac{i φ}{2}}}{4} & 0 & 0 & 0 & 0 & 0 & 0 & 0 & 0 & 0 & 0 & \\frac{i e^{\\frac{i φ}{2}}}{4} + \\frac{i e^{i φ}}{4} - \\frac{i e^{- i φ}}{4} - \\frac{i e^{- \\frac{i φ}{2}}}{4} & - \\frac{e^{\\frac{i φ}{2}}}{4} + \\frac{e^{i φ}}{4} + \\frac{e^{- i φ}}{4} - \\frac{e^{- \\frac{i φ}{2}}}{4} & 0\\\\0 & 0 & 0 & 1 & 0 & 0 & 0 & 0 & 0 & 0 & 0 & 0 & 0 & 0 & 0 & 0\\\\0 & 0 & 0 & 0 & \\frac{e^{\\frac{i φ}{2}}}{4} + \\frac{e^{i φ}}{4} + \\frac{e^{- i φ}}{4} + \\frac{e^{- \\frac{i φ}{2}}}{4} & 0 & 0 & - \\frac{e^{\\frac{i φ}{2}}}{4} + \\frac{e^{i φ}}{4} + \\frac{e^{- i φ}}{4} - \\frac{e^{- \\frac{i φ}{2}}}{4} & \\frac{i e^{\\frac{i φ}{2}}}{4} - \\frac{i e^{i φ}}{4} + \\frac{i e^{- i φ}}{4} - \\frac{i e^{- \\frac{i φ}{2}}}{4} & 0 & 0 & - \\frac{i e^{\\frac{i φ}{2}}}{4} - \\frac{i e^{i φ}}{4} + \\frac{i e^{- i φ}}{4} + \\frac{i e^{- \\frac{i φ}{2}}}{4} & 0 & 0 & 0 & 0\\\\0 & 0 & 0 & 0 & 0 & \\frac{e^{\\frac{i φ}{2}}}{4} + \\frac{1}{2} + \\frac{e^{- \\frac{i φ}{2}}}{4} & - \\frac{i e^{\\frac{i φ}{2}}}{4} + \\frac{i e^{- \\frac{i φ}{2}}}{4} & 0 & 0 & - \\frac{i e^{\\frac{i φ}{2}}}{4} + \\frac{i e^{- \\frac{i φ}{2}}}{4} & - \\frac{e^{\\frac{i φ}{2}}}{4} + \\frac{1}{2} - \\frac{e^{- \\frac{i φ}{2}}}{4} & 0 & 0 & 0 & 0 & 0\\\\0 & 0 & 0 & 0 & 0 & \\frac{i e^{\\frac{i φ}{2}}}{4} - \\frac{i e^{- \\frac{i φ}{2}}}{4} & \\frac{e^{\\frac{i φ}{2}}}{4} + \\frac{1}{2} + \\frac{e^{- \\frac{i φ}{2}}}{4} & 0 & 0 & \\frac{e^{\\frac{i φ}{2}}}{4} - \\frac{1}{2} + \\frac{e^{- \\frac{i φ}{2}}}{4} & - \\frac{i e^{\\frac{i φ}{2}}}{4} + \\frac{i e^{- \\frac{i φ}{2}}}{4} & 0 & 0 & 0 & 0 & 0\\\\0 & 0 & 0 & 0 & - \\frac{e^{\\frac{i φ}{2}}}{4} + \\frac{e^{i φ}}{4} + \\frac{e^{- i φ}}{4} - \\frac{e^{- \\frac{i φ}{2}}}{4} & 0 & 0 & \\frac{e^{\\frac{i φ}{2}}}{4} + \\frac{e^{i φ}}{4} + \\frac{e^{- i φ}}{4} + \\frac{e^{- \\frac{i φ}{2}}}{4} & - \\frac{i e^{\\frac{i φ}{2}}}{4} - \\frac{i e^{i φ}}{4} + \\frac{i e^{- i φ}}{4} + \\frac{i e^{- \\frac{i φ}{2}}}{4} & 0 & 0 & \\frac{i e^{\\frac{i φ}{2}}}{4} - \\frac{i e^{i φ}}{4} + \\frac{i e^{- i φ}}{4} - \\frac{i e^{- \\frac{i φ}{2}}}{4} & 0 & 0 & 0 & 0\\\\0 & 0 & 0 & 0 & - \\frac{i e^{\\frac{i φ}{2}}}{4} + \\frac{i e^{i φ}}{4} - \\frac{i e^{- i φ}}{4} + \\frac{i e^{- \\frac{i φ}{2}}}{4} & 0 & 0 & \\frac{i e^{\\frac{i φ}{2}}}{4} + \\frac{i e^{i φ}}{4} - \\frac{i e^{- i φ}}{4} - \\frac{i e^{- \\frac{i φ}{2}}}{4} & \\frac{e^{\\frac{i φ}{2}}}{4} + \\frac{e^{i φ}}{4} + \\frac{e^{- i φ}}{4} + \\frac{e^{- \\frac{i φ}{2}}}{4} & 0 & 0 & - \\frac{e^{\\frac{i φ}{2}}}{4} + \\frac{e^{i φ}}{4} + \\frac{e^{- i φ}}{4} - \\frac{e^{- \\frac{i φ}{2}}}{4} & 0 & 0 & 0 & 0\\\\0 & 0 & 0 & 0 & 0 & \\frac{i e^{\\frac{i φ}{2}}}{4} - \\frac{i e^{- \\frac{i φ}{2}}}{4} & \\frac{e^{\\frac{i φ}{2}}}{4} - \\frac{1}{2} + \\frac{e^{- \\frac{i φ}{2}}}{4} & 0 & 0 & \\frac{e^{\\frac{i φ}{2}}}{4} + \\frac{1}{2} + \\frac{e^{- \\frac{i φ}{2}}}{4} & - \\frac{i e^{\\frac{i φ}{2}}}{4} + \\frac{i e^{- \\frac{i φ}{2}}}{4} & 0 & 0 & 0 & 0 & 0\\\\0 & 0 & 0 & 0 & 0 & - \\frac{e^{\\frac{i φ}{2}}}{4} + \\frac{1}{2} - \\frac{e^{- \\frac{i φ}{2}}}{4} & \\frac{i e^{\\frac{i φ}{2}}}{4} - \\frac{i e^{- \\frac{i φ}{2}}}{4} & 0 & 0 & \\frac{i e^{\\frac{i φ}{2}}}{4} - \\frac{i e^{- \\frac{i φ}{2}}}{4} & \\frac{e^{\\frac{i φ}{2}}}{4} + \\frac{1}{2} + \\frac{e^{- \\frac{i φ}{2}}}{4} & 0 & 0 & 0 & 0 & 0\\\\0 & 0 & 0 & 0 & \\frac{i e^{\\frac{i φ}{2}}}{4} + \\frac{i e^{i φ}}{4} - \\frac{i e^{- i φ}}{4} - \\frac{i e^{- \\frac{i φ}{2}}}{4} & 0 & 0 & - \\frac{i e^{\\frac{i φ}{2}}}{4} + \\frac{i e^{i φ}}{4} - \\frac{i e^{- i φ}}{4} + \\frac{i e^{- \\frac{i φ}{2}}}{4} & - \\frac{e^{\\frac{i φ}{2}}}{4} + \\frac{e^{i φ}}{4} + \\frac{e^{- i φ}}{4} - \\frac{e^{- \\frac{i φ}{2}}}{4} & 0 & 0 & \\frac{e^{\\frac{i φ}{2}}}{4} + \\frac{e^{i φ}}{4} + \\frac{e^{- i φ}}{4} + \\frac{e^{- \\frac{i φ}{2}}}{4} & 0 & 0 & 0 & 0\\\\0 & 0 & 0 & 0 & 0 & 0 & 0 & 0 & 0 & 0 & 0 & 0 & 1 & 0 & 0 & 0\\\\0 & - \\frac{e^{\\frac{i φ}{2}}}{4} + \\frac{e^{i φ}}{4} + \\frac{e^{- i φ}}{4} - \\frac{e^{- \\frac{i φ}{2}}}{4} & - \\frac{i e^{\\frac{i φ}{2}}}{4} - \\frac{i e^{i φ}}{4} + \\frac{i e^{- i φ}}{4} + \\frac{i e^{- \\frac{i φ}{2}}}{4} & 0 & 0 & 0 & 0 & 0 & 0 & 0 & 0 & 0 & 0 & \\frac{e^{\\frac{i φ}{2}}}{4} + \\frac{e^{i φ}}{4} + \\frac{e^{- i φ}}{4} + \\frac{e^{- \\frac{i φ}{2}}}{4} & \\frac{i e^{\\frac{i φ}{2}}}{4} - \\frac{i e^{i φ}}{4} + \\frac{i e^{- i φ}}{4} - \\frac{i e^{- \\frac{i φ}{2}}}{4} & 0\\\\0 & \\frac{i e^{\\frac{i φ}{2}}}{4} + \\frac{i e^{i φ}}{4} - \\frac{i e^{- i φ}}{4} - \\frac{i e^{- \\frac{i φ}{2}}}{4} & - \\frac{e^{\\frac{i φ}{2}}}{4} + \\frac{e^{i φ}}{4} + \\frac{e^{- i φ}}{4} - \\frac{e^{- \\frac{i φ}{2}}}{4} & 0 & 0 & 0 & 0 & 0 & 0 & 0 & 0 & 0 & 0 & - \\frac{i e^{\\frac{i φ}{2}}}{4} + \\frac{i e^{i φ}}{4} - \\frac{i e^{- i φ}}{4} + \\frac{i e^{- \\frac{i φ}{2}}}{4} & \\frac{e^{\\frac{i φ}{2}}}{4} + \\frac{e^{i φ}}{4} + \\frac{e^{- i φ}}{4} + \\frac{e^{- \\frac{i φ}{2}}}{4} & 0\\\\0 & 0 & 0 & 0 & 0 & 0 & 0 & 0 & 0 & 0 & 0 & 0 & 0 & 0 & 0 & 1\\end{array}\\right]$"
      ],
      "text/plain": [
       "Matrix([\n",
       "[1,                                                                0,                                                                0, 0,                                                                0,                                   0,                                  0,                                                                0,                                                                0,                                  0,                                   0,                                                                0, 0,                                                                0,                                                                0, 0],\n",
       "[0,          exp(I*φ/2)/4 + exp(I*φ)/4 + exp(-I*φ)/4 + exp(-I*φ/2)/4,  I*exp(I*φ/2)/4 - I*exp(I*φ)/4 + I*exp(-I*φ)/4 - I*exp(-I*φ/2)/4, 0,                                                                0,                                   0,                                  0,                                                                0,                                                                0,                                  0,                                   0,                                                                0, 0,         -exp(I*φ/2)/4 + exp(I*φ)/4 + exp(-I*φ)/4 - exp(-I*φ/2)/4, -I*exp(I*φ/2)/4 - I*exp(I*φ)/4 + I*exp(-I*φ)/4 + I*exp(-I*φ/2)/4, 0],\n",
       "[0, -I*exp(I*φ/2)/4 + I*exp(I*φ)/4 - I*exp(-I*φ)/4 + I*exp(-I*φ/2)/4,          exp(I*φ/2)/4 + exp(I*φ)/4 + exp(-I*φ)/4 + exp(-I*φ/2)/4, 0,                                                                0,                                   0,                                  0,                                                                0,                                                                0,                                  0,                                   0,                                                                0, 0,  I*exp(I*φ/2)/4 + I*exp(I*φ)/4 - I*exp(-I*φ)/4 - I*exp(-I*φ/2)/4,         -exp(I*φ/2)/4 + exp(I*φ)/4 + exp(-I*φ)/4 - exp(-I*φ/2)/4, 0],\n",
       "[0,                                                                0,                                                                0, 1,                                                                0,                                   0,                                  0,                                                                0,                                                                0,                                  0,                                   0,                                                                0, 0,                                                                0,                                                                0, 0],\n",
       "[0,                                                                0,                                                                0, 0,          exp(I*φ/2)/4 + exp(I*φ)/4 + exp(-I*φ)/4 + exp(-I*φ/2)/4,                                   0,                                  0,         -exp(I*φ/2)/4 + exp(I*φ)/4 + exp(-I*φ)/4 - exp(-I*φ/2)/4,  I*exp(I*φ/2)/4 - I*exp(I*φ)/4 + I*exp(-I*φ)/4 - I*exp(-I*φ/2)/4,                                  0,                                   0, -I*exp(I*φ/2)/4 - I*exp(I*φ)/4 + I*exp(-I*φ)/4 + I*exp(-I*φ/2)/4, 0,                                                                0,                                                                0, 0],\n",
       "[0,                                                                0,                                                                0, 0,                                                                0,  exp(I*φ/2)/4 + 1/2 + exp(-I*φ/2)/4,  -I*exp(I*φ/2)/4 + I*exp(-I*φ/2)/4,                                                                0,                                                                0,  -I*exp(I*φ/2)/4 + I*exp(-I*φ/2)/4, -exp(I*φ/2)/4 + 1/2 - exp(-I*φ/2)/4,                                                                0, 0,                                                                0,                                                                0, 0],\n",
       "[0,                                                                0,                                                                0, 0,                                                                0,    I*exp(I*φ/2)/4 - I*exp(-I*φ/2)/4, exp(I*φ/2)/4 + 1/2 + exp(-I*φ/2)/4,                                                                0,                                                                0, exp(I*φ/2)/4 - 1/2 + exp(-I*φ/2)/4,   -I*exp(I*φ/2)/4 + I*exp(-I*φ/2)/4,                                                                0, 0,                                                                0,                                                                0, 0],\n",
       "[0,                                                                0,                                                                0, 0,         -exp(I*φ/2)/4 + exp(I*φ)/4 + exp(-I*φ)/4 - exp(-I*φ/2)/4,                                   0,                                  0,          exp(I*φ/2)/4 + exp(I*φ)/4 + exp(-I*φ)/4 + exp(-I*φ/2)/4, -I*exp(I*φ/2)/4 - I*exp(I*φ)/4 + I*exp(-I*φ)/4 + I*exp(-I*φ/2)/4,                                  0,                                   0,  I*exp(I*φ/2)/4 - I*exp(I*φ)/4 + I*exp(-I*φ)/4 - I*exp(-I*φ/2)/4, 0,                                                                0,                                                                0, 0],\n",
       "[0,                                                                0,                                                                0, 0, -I*exp(I*φ/2)/4 + I*exp(I*φ)/4 - I*exp(-I*φ)/4 + I*exp(-I*φ/2)/4,                                   0,                                  0,  I*exp(I*φ/2)/4 + I*exp(I*φ)/4 - I*exp(-I*φ)/4 - I*exp(-I*φ/2)/4,          exp(I*φ/2)/4 + exp(I*φ)/4 + exp(-I*φ)/4 + exp(-I*φ/2)/4,                                  0,                                   0,         -exp(I*φ/2)/4 + exp(I*φ)/4 + exp(-I*φ)/4 - exp(-I*φ/2)/4, 0,                                                                0,                                                                0, 0],\n",
       "[0,                                                                0,                                                                0, 0,                                                                0,    I*exp(I*φ/2)/4 - I*exp(-I*φ/2)/4, exp(I*φ/2)/4 - 1/2 + exp(-I*φ/2)/4,                                                                0,                                                                0, exp(I*φ/2)/4 + 1/2 + exp(-I*φ/2)/4,   -I*exp(I*φ/2)/4 + I*exp(-I*φ/2)/4,                                                                0, 0,                                                                0,                                                                0, 0],\n",
       "[0,                                                                0,                                                                0, 0,                                                                0, -exp(I*φ/2)/4 + 1/2 - exp(-I*φ/2)/4,   I*exp(I*φ/2)/4 - I*exp(-I*φ/2)/4,                                                                0,                                                                0,   I*exp(I*φ/2)/4 - I*exp(-I*φ/2)/4,  exp(I*φ/2)/4 + 1/2 + exp(-I*φ/2)/4,                                                                0, 0,                                                                0,                                                                0, 0],\n",
       "[0,                                                                0,                                                                0, 0,  I*exp(I*φ/2)/4 + I*exp(I*φ)/4 - I*exp(-I*φ)/4 - I*exp(-I*φ/2)/4,                                   0,                                  0, -I*exp(I*φ/2)/4 + I*exp(I*φ)/4 - I*exp(-I*φ)/4 + I*exp(-I*φ/2)/4,         -exp(I*φ/2)/4 + exp(I*φ)/4 + exp(-I*φ)/4 - exp(-I*φ/2)/4,                                  0,                                   0,          exp(I*φ/2)/4 + exp(I*φ)/4 + exp(-I*φ)/4 + exp(-I*φ/2)/4, 0,                                                                0,                                                                0, 0],\n",
       "[0,                                                                0,                                                                0, 0,                                                                0,                                   0,                                  0,                                                                0,                                                                0,                                  0,                                   0,                                                                0, 1,                                                                0,                                                                0, 0],\n",
       "[0,         -exp(I*φ/2)/4 + exp(I*φ)/4 + exp(-I*φ)/4 - exp(-I*φ/2)/4, -I*exp(I*φ/2)/4 - I*exp(I*φ)/4 + I*exp(-I*φ)/4 + I*exp(-I*φ/2)/4, 0,                                                                0,                                   0,                                  0,                                                                0,                                                                0,                                  0,                                   0,                                                                0, 0,          exp(I*φ/2)/4 + exp(I*φ)/4 + exp(-I*φ)/4 + exp(-I*φ/2)/4,  I*exp(I*φ/2)/4 - I*exp(I*φ)/4 + I*exp(-I*φ)/4 - I*exp(-I*φ/2)/4, 0],\n",
       "[0,  I*exp(I*φ/2)/4 + I*exp(I*φ)/4 - I*exp(-I*φ)/4 - I*exp(-I*φ/2)/4,         -exp(I*φ/2)/4 + exp(I*φ)/4 + exp(-I*φ)/4 - exp(-I*φ/2)/4, 0,                                                                0,                                   0,                                  0,                                                                0,                                                                0,                                  0,                                   0,                                                                0, 0, -I*exp(I*φ/2)/4 + I*exp(I*φ)/4 - I*exp(-I*φ)/4 + I*exp(-I*φ/2)/4,          exp(I*φ/2)/4 + exp(I*φ)/4 + exp(-I*φ)/4 + exp(-I*φ/2)/4, 0],\n",
       "[0,                                                                0,                                                                0, 0,                                                                0,                                   0,                                  0,                                                                0,                                                                0,                                  0,                                   0,                                                                0, 0,                                                                0,                                                                0, 1]])"
      ]
     },
     "execution_count": 8,
     "metadata": {},
     "output_type": "execute_result"
    }
   ],
   "source": [
    "ZZ    = sympy.Matrix([[1, 0, 0, 0],\n",
    "                      [0, sympy.exp(-sympy.I*φ), 0, 0],\n",
    "                      [0, 0, sympy.exp(-sympy.I*φ), 0],\n",
    "                      [0, 0, 0, sympy.exp(-sympy.I*φ/2)]])\n",
    "Kraus2PTM(ZZ)"
   ]
  },
  {
   "cell_type": "code",
   "execution_count": 9,
   "metadata": {
    "ExecuteTime": {
     "end_time": "2020-07-08T15:38:11.174874Z",
     "start_time": "2020-07-08T15:38:10.903674Z"
    }
   },
   "outputs": [
    {
     "data": {
      "text/latex": [
       "$\\displaystyle \\left[\\begin{array}{cccccccccccccccc}1.0 & 0 & 0 & 0 & 0 & 0 & 0 & 0 & 0 & 0 & 0 & 0 & 0 & 0 & 0 & 0\\\\0 & 1.0 & 0 & 0 & 0 & 0 & 0 & 0 & 0 & 0 & 0 & 0 & 0 & 0 & 0 & 0\\\\0 & 0 & 1.0 & 0 & 0 & 0 & 0 & 0 & 0 & 0 & 0 & 0 & 0 & 0 & 0 & 0\\\\0 & 0 & 0 & 1.0 & 0 & 0 & 0 & 0 & 0 & 0 & 0 & 0 & 0 & 0 & 0 & 0\\\\0 & 0 & 0 & 0 & 1.0 & 0 & 0 & 0 & 0 & 0 & 0 & 0 & 0 & 0 & 0 & 0\\\\0 & 0 & 0 & 0 & 0 & 1.0 & 0 & 0 & 0 & 0 & 0 & 0 & 0 & 0 & 0 & 0\\\\0 & 0 & 0 & 0 & 0 & 0 & 1.0 & 0 & 0 & 0 & 0 & 0 & 0 & 0 & 0 & 0\\\\0 & 0 & 0 & 0 & 0 & 0 & 0 & 1.0 & 0 & 0 & 0 & 0 & 0 & 0 & 0 & 0\\\\0 & 0 & 0 & 0 & 0 & 0 & 0 & 0 & 1.0 & 0 & 0 & 0 & 0 & 0 & 0 & 0\\\\0 & 0 & 0 & 0 & 0 & 0 & 0 & 0 & 0 & 1.0 & 0 & 0 & 0 & 0 & 0 & 0\\\\0 & 0 & 0 & 0 & 0 & 0 & 0 & 0 & 0 & 0 & 1.0 & 0 & 0 & 0 & 0 & 0\\\\0 & 0 & 0 & 0 & 0 & 0 & 0 & 0 & 0 & 0 & 0 & 1.0 & 0 & 0 & 0 & 0\\\\0 & 0 & 0 & 0 & 0 & 0 & 0 & 0 & 0 & 0 & 0 & 0 & 1.0 & 0 & 0 & 0\\\\0 & 0 & 0 & 0 & 0 & 0 & 0 & 0 & 0 & 0 & 0 & 0 & 0 & 1.0 & 0 & 0\\\\0 & 0 & 0 & 0 & 0 & 0 & 0 & 0 & 0 & 0 & 0 & 0 & 0 & 0 & 1.0 & 0\\\\0 & 0 & 0 & 0 & 0 & 0 & 0 & 0 & 0 & 0 & 0 & 0 & 0 & 0 & 0 & 1.0\\end{array}\\right]$"
      ],
      "text/plain": [
       "Matrix([\n",
       "[1.0,   0,   0,   0,   0,   0,   0,   0,   0,   0,   0,   0,   0,   0,   0,   0],\n",
       "[  0, 1.0,   0,   0,   0,   0,   0,   0,   0,   0,   0,   0,   0,   0,   0,   0],\n",
       "[  0,   0, 1.0,   0,   0,   0,   0,   0,   0,   0,   0,   0,   0,   0,   0,   0],\n",
       "[  0,   0,   0, 1.0,   0,   0,   0,   0,   0,   0,   0,   0,   0,   0,   0,   0],\n",
       "[  0,   0,   0,   0, 1.0,   0,   0,   0,   0,   0,   0,   0,   0,   0,   0,   0],\n",
       "[  0,   0,   0,   0,   0, 1.0,   0,   0,   0,   0,   0,   0,   0,   0,   0,   0],\n",
       "[  0,   0,   0,   0,   0,   0, 1.0,   0,   0,   0,   0,   0,   0,   0,   0,   0],\n",
       "[  0,   0,   0,   0,   0,   0,   0, 1.0,   0,   0,   0,   0,   0,   0,   0,   0],\n",
       "[  0,   0,   0,   0,   0,   0,   0,   0, 1.0,   0,   0,   0,   0,   0,   0,   0],\n",
       "[  0,   0,   0,   0,   0,   0,   0,   0,   0, 1.0,   0,   0,   0,   0,   0,   0],\n",
       "[  0,   0,   0,   0,   0,   0,   0,   0,   0,   0, 1.0,   0,   0,   0,   0,   0],\n",
       "[  0,   0,   0,   0,   0,   0,   0,   0,   0,   0,   0, 1.0,   0,   0,   0,   0],\n",
       "[  0,   0,   0,   0,   0,   0,   0,   0,   0,   0,   0,   0, 1.0,   0,   0,   0],\n",
       "[  0,   0,   0,   0,   0,   0,   0,   0,   0,   0,   0,   0,   0, 1.0,   0,   0],\n",
       "[  0,   0,   0,   0,   0,   0,   0,   0,   0,   0,   0,   0,   0,   0, 1.0,   0],\n",
       "[  0,   0,   0,   0,   0,   0,   0,   0,   0,   0,   0,   0,   0,   0,   0, 1.0]])"
      ]
     },
     "execution_count": 9,
     "metadata": {},
     "output_type": "execute_result"
    }
   ],
   "source": [
    "ZZ    = sympy.Matrix([[1, 0, 0, 0],\n",
    "                      [0, sympy.exp(-sympy.I*0), 0, 0],\n",
    "                      [0, 0, sympy.exp(-sympy.I*0), 0],\n",
    "                      [0, 0, 0, sympy.exp(-sympy.I*0)]])\n",
    "Kraus2PTM(ZZ)"
   ]
  },
  {
   "cell_type": "code",
   "execution_count": null,
   "metadata": {},
   "outputs": [],
   "source": []
  }
 ],
 "metadata": {
  "kernelspec": {
   "display_name": "Python 3 (ipykernel)",
   "language": "python",
   "name": "python3"
  },
  "language_info": {
   "codemirror_mode": {
    "name": "ipython",
    "version": 3
   },
   "file_extension": ".py",
   "mimetype": "text/x-python",
   "name": "python",
   "nbconvert_exporter": "python",
   "pygments_lexer": "ipython3",
   "version": "3.9.12"
  },
  "latex_envs": {
   "LaTeX_envs_menu_present": true,
   "autoclose": false,
   "autocomplete": true,
   "bibliofile": "biblio.bib",
   "cite_by": "apalike",
   "current_citInitial": 1,
   "eqLabelWithNumbers": true,
   "eqNumInitial": 1,
   "hotkeys": {
    "equation": "Ctrl-E",
    "itemize": "Ctrl-I"
   },
   "labels_anchors": false,
   "latex_user_defs": false,
   "report_style_numbering": false,
   "user_envs_cfg": false
  },
  "toc": {
   "base_numbering": 1,
   "nav_menu": {},
   "number_sections": true,
   "sideBar": true,
   "skip_h1_title": false,
   "title_cell": "Table of Contents",
   "title_sidebar": "Contents",
   "toc_cell": false,
   "toc_position": {},
   "toc_section_display": true,
   "toc_window_display": false
  },
  "varInspector": {
   "cols": {
    "lenName": 16,
    "lenType": 16,
    "lenVar": 40
   },
   "kernels_config": {
    "python": {
     "delete_cmd_postfix": "",
     "delete_cmd_prefix": "del ",
     "library": "var_list.py",
     "varRefreshCmd": "print(var_dic_list())"
    },
    "r": {
     "delete_cmd_postfix": ") ",
     "delete_cmd_prefix": "rm(",
     "library": "var_list.r",
     "varRefreshCmd": "cat(var_dic_list()) "
    }
   },
   "types_to_exclude": [
    "module",
    "function",
    "builtin_function_or_method",
    "instance",
    "_Feature"
   ],
   "window_display": false
  }
 },
 "nbformat": 4,
 "nbformat_minor": 4
}
